{
 "cells": [
  {
   "cell_type": "markdown",
   "metadata": {},
   "source": [
    "# D(St)reams of Anomalies"
   ]
  },
  {
   "cell_type": "markdown",
   "metadata": {},
   "source": [
    "## Anomaly Detection"
   ]
  },
  {
   "cell_type": "markdown",
   "metadata": {},
   "source": [
    "#### Submitted By: Arman Ghasemi KU ID: 2970754 Email:arman.ghasemi@ku.edu"
   ]
  },
  {
   "cell_type": "markdown",
   "metadata": {},
   "source": [
    "In this project one of the datasets from realAWSCloudwatch has been selected. Three methods of anomaly detection, Interquartile Range (IQR), Isolation Forest and One Class Support Vector Machine, has been applied."
   ]
  },
  {
   "cell_type": "markdown",
   "metadata": {},
   "source": [
    "#### Data source: https://www.kaggle.com/boltzmannbrain/nab"
   ]
  },
  {
   "cell_type": "markdown",
   "metadata": {},
   "source": [
    "First of all useful library should be imported."
   ]
  },
  {
   "cell_type": "code",
   "execution_count": 1,
   "metadata": {},
   "outputs": [],
   "source": [
    "import numpy as np\n",
    "import pandas as pd\n",
    "import matplotlib.pyplot as plt\n",
    "from sklearn import preprocessing\n",
    "from scipy.stats import iqr\n",
    "from sklearn.ensemble import IsolationForest\n",
    "from sklearn.svm import OneClassSVM"
   ]
  },
  {
   "cell_type": "markdown",
   "metadata": {},
   "source": [
    "Reading dataset from the url and showing 10 first rows of the dataset."
   ]
  },
  {
   "cell_type": "code",
   "execution_count": 2,
   "metadata": {},
   "outputs": [
    {
     "data": {
      "text/html": [
       "<div>\n",
       "<style scoped>\n",
       "    .dataframe tbody tr th:only-of-type {\n",
       "        vertical-align: middle;\n",
       "    }\n",
       "\n",
       "    .dataframe tbody tr th {\n",
       "        vertical-align: top;\n",
       "    }\n",
       "\n",
       "    .dataframe thead th {\n",
       "        text-align: right;\n",
       "    }\n",
       "</style>\n",
       "<table border=\"1\" class=\"dataframe\">\n",
       "  <thead>\n",
       "    <tr style=\"text-align: right;\">\n",
       "      <th></th>\n",
       "      <th>timestamp</th>\n",
       "      <th>value</th>\n",
       "    </tr>\n",
       "  </thead>\n",
       "  <tbody>\n",
       "    <tr>\n",
       "      <td>0</td>\n",
       "      <td>2014-02-14 14:30:00</td>\n",
       "      <td>1.732</td>\n",
       "    </tr>\n",
       "    <tr>\n",
       "      <td>1</td>\n",
       "      <td>2014-02-14 14:35:00</td>\n",
       "      <td>1.732</td>\n",
       "    </tr>\n",
       "    <tr>\n",
       "      <td>2</td>\n",
       "      <td>2014-02-14 14:40:00</td>\n",
       "      <td>1.960</td>\n",
       "    </tr>\n",
       "    <tr>\n",
       "      <td>3</td>\n",
       "      <td>2014-02-14 14:45:00</td>\n",
       "      <td>1.732</td>\n",
       "    </tr>\n",
       "    <tr>\n",
       "      <td>4</td>\n",
       "      <td>2014-02-14 14:50:00</td>\n",
       "      <td>1.706</td>\n",
       "    </tr>\n",
       "    <tr>\n",
       "      <td>5</td>\n",
       "      <td>2014-02-14 14:55:00</td>\n",
       "      <td>1.734</td>\n",
       "    </tr>\n",
       "    <tr>\n",
       "      <td>6</td>\n",
       "      <td>2014-02-14 15:00:00</td>\n",
       "      <td>1.766</td>\n",
       "    </tr>\n",
       "    <tr>\n",
       "      <td>7</td>\n",
       "      <td>2014-02-14 15:05:00</td>\n",
       "      <td>1.766</td>\n",
       "    </tr>\n",
       "    <tr>\n",
       "      <td>8</td>\n",
       "      <td>2014-02-14 15:10:00</td>\n",
       "      <td>2.026</td>\n",
       "    </tr>\n",
       "    <tr>\n",
       "      <td>9</td>\n",
       "      <td>2014-02-14 15:15:00</td>\n",
       "      <td>1.762</td>\n",
       "    </tr>\n",
       "  </tbody>\n",
       "</table>\n",
       "</div>"
      ],
      "text/plain": [
       "             timestamp  value\n",
       "0  2014-02-14 14:30:00  1.732\n",
       "1  2014-02-14 14:35:00  1.732\n",
       "2  2014-02-14 14:40:00  1.960\n",
       "3  2014-02-14 14:45:00  1.732\n",
       "4  2014-02-14 14:50:00  1.706\n",
       "5  2014-02-14 14:55:00  1.734\n",
       "6  2014-02-14 15:00:00  1.766\n",
       "7  2014-02-14 15:05:00  1.766\n",
       "8  2014-02-14 15:10:00  2.026\n",
       "9  2014-02-14 15:15:00  1.762"
      ]
     },
     "execution_count": 2,
     "metadata": {},
     "output_type": "execute_result"
    }
   ],
   "source": [
    "DF = pd.read_csv('https://raw.githubusercontent.com/armangh67/Anomaly-Detection/master/datasets/ec2_cpu_utilization_53ea38.csv', low_memory = False)\n",
    "DF.head(10)"
   ]
  },
  {
   "cell_type": "markdown",
   "metadata": {},
   "source": [
    "To understand the dataset, the info has been shown as below."
   ]
  },
  {
   "cell_type": "code",
   "execution_count": 3,
   "metadata": {},
   "outputs": [
    {
     "name": "stdout",
     "output_type": "stream",
     "text": [
      "<class 'pandas.core.frame.DataFrame'>\n",
      "RangeIndex: 4032 entries, 0 to 4031\n",
      "Data columns (total 2 columns):\n",
      "timestamp    4032 non-null object\n",
      "value        4032 non-null float64\n",
      "dtypes: float64(1), object(1)\n",
      "memory usage: 63.1+ KB\n",
      "None\n"
     ]
    }
   ],
   "source": [
    "print(DF.info())"
   ]
  },
  {
   "cell_type": "markdown",
   "metadata": {},
   "source": [
    "## Feature Engineering"
   ]
  },
  {
   "cell_type": "markdown",
   "metadata": {},
   "source": [
    "First of all data visualization can be a good point to start. Something like seeing the range of the dataset and ploting the dataset. For ploting timestamp column should be changed to datetime."
   ]
  },
  {
   "cell_type": "code",
   "execution_count": 4,
   "metadata": {},
   "outputs": [
    {
     "data": {
      "text/plain": [
       "('2014-02-14 14:30:00', '2014-02-28 14:25:00')"
      ]
     },
     "execution_count": 4,
     "metadata": {},
     "output_type": "execute_result"
    }
   ],
   "source": [
    "DF['timestamp'].min(), DF['timestamp'].max() #range of the data"
   ]
  },
  {
   "cell_type": "code",
   "execution_count": 5,
   "metadata": {},
   "outputs": [],
   "source": [
    "DF['timestamp'] = pd.to_datetime(DF['timestamp']) # change the type of timestamp column"
   ]
  },
  {
   "cell_type": "code",
   "execution_count": 6,
   "metadata": {},
   "outputs": [
    {
     "data": {
      "text/plain": [
       "<matplotlib.legend.Legend at 0x1dfc48aedc8>"
      ]
     },
     "execution_count": 6,
     "metadata": {},
     "output_type": "execute_result"
    },
    {
     "data": {
      "image/png": "[encoded data removed]",
      "text/plain": [
       "<Figure size 720x360 with 1 Axes>"
      ]
     },
     "metadata": {
      "needs_background": "light"
     },
     "output_type": "display_data"
    }
   ],
   "source": [
    "DF.plot(x='timestamp', y='value', figsize=(10,5),label='Datasets')\n",
    "plt.xlabel('Timestamp', fontsize=16)\n",
    "plt.ylabel('Value', fontsize=16)\n",
    "plt.legend()\n"
   ]
  },
  {
   "cell_type": "markdown",
   "metadata": {},
   "source": [
    "All the dates can be divided to different category such as weekday and weekend. Also timestamp can be converted to time epoch which is easier for the data ploting."
   ]
  },
  {
   "cell_type": "code",
   "execution_count": 7,
   "metadata": {},
   "outputs": [
    {
     "data": {
      "text/html": [
       "<div>\n",
       "<style scoped>\n",
       "    .dataframe tbody tr th:only-of-type {\n",
       "        vertical-align: middle;\n",
       "    }\n",
       "\n",
       "    .dataframe tbody tr th {\n",
       "        vertical-align: top;\n",
       "    }\n",
       "\n",
       "    .dataframe thead th {\n",
       "        text-align: right;\n",
       "    }\n",
       "</style>\n",
       "<table border=\"1\" class=\"dataframe\">\n",
       "  <thead>\n",
       "    <tr style=\"text-align: right;\">\n",
       "      <th></th>\n",
       "      <th>timestamp</th>\n",
       "      <th>value</th>\n",
       "      <th>Days</th>\n",
       "      <th>Weekday</th>\n",
       "      <th>time_epoch</th>\n",
       "    </tr>\n",
       "  </thead>\n",
       "  <tbody>\n",
       "    <tr>\n",
       "      <td>0</td>\n",
       "      <td>2014-02-14 14:30:00</td>\n",
       "      <td>1.732</td>\n",
       "      <td>4</td>\n",
       "      <td>1</td>\n",
       "      <td>13923882</td>\n",
       "    </tr>\n",
       "    <tr>\n",
       "      <td>1</td>\n",
       "      <td>2014-02-14 14:35:00</td>\n",
       "      <td>1.732</td>\n",
       "      <td>4</td>\n",
       "      <td>1</td>\n",
       "      <td>13923885</td>\n",
       "    </tr>\n",
       "    <tr>\n",
       "      <td>2</td>\n",
       "      <td>2014-02-14 14:40:00</td>\n",
       "      <td>1.960</td>\n",
       "      <td>4</td>\n",
       "      <td>1</td>\n",
       "      <td>13923888</td>\n",
       "    </tr>\n",
       "    <tr>\n",
       "      <td>3</td>\n",
       "      <td>2014-02-14 14:45:00</td>\n",
       "      <td>1.732</td>\n",
       "      <td>4</td>\n",
       "      <td>1</td>\n",
       "      <td>13923891</td>\n",
       "    </tr>\n",
       "    <tr>\n",
       "      <td>4</td>\n",
       "      <td>2014-02-14 14:50:00</td>\n",
       "      <td>1.706</td>\n",
       "      <td>4</td>\n",
       "      <td>1</td>\n",
       "      <td>13923894</td>\n",
       "    </tr>\n",
       "    <tr>\n",
       "      <td>5</td>\n",
       "      <td>2014-02-14 14:55:00</td>\n",
       "      <td>1.734</td>\n",
       "      <td>4</td>\n",
       "      <td>1</td>\n",
       "      <td>13923897</td>\n",
       "    </tr>\n",
       "    <tr>\n",
       "      <td>6</td>\n",
       "      <td>2014-02-14 15:00:00</td>\n",
       "      <td>1.766</td>\n",
       "      <td>4</td>\n",
       "      <td>1</td>\n",
       "      <td>13923900</td>\n",
       "    </tr>\n",
       "    <tr>\n",
       "      <td>7</td>\n",
       "      <td>2014-02-14 15:05:00</td>\n",
       "      <td>1.766</td>\n",
       "      <td>4</td>\n",
       "      <td>1</td>\n",
       "      <td>13923903</td>\n",
       "    </tr>\n",
       "    <tr>\n",
       "      <td>8</td>\n",
       "      <td>2014-02-14 15:10:00</td>\n",
       "      <td>2.026</td>\n",
       "      <td>4</td>\n",
       "      <td>1</td>\n",
       "      <td>13923906</td>\n",
       "    </tr>\n",
       "    <tr>\n",
       "      <td>9</td>\n",
       "      <td>2014-02-14 15:15:00</td>\n",
       "      <td>1.762</td>\n",
       "      <td>4</td>\n",
       "      <td>1</td>\n",
       "      <td>13923909</td>\n",
       "    </tr>\n",
       "  </tbody>\n",
       "</table>\n",
       "</div>"
      ],
      "text/plain": [
       "            timestamp  value  Days  Weekday  time_epoch\n",
       "0 2014-02-14 14:30:00  1.732     4        1    13923882\n",
       "1 2014-02-14 14:35:00  1.732     4        1    13923885\n",
       "2 2014-02-14 14:40:00  1.960     4        1    13923888\n",
       "3 2014-02-14 14:45:00  1.732     4        1    13923891\n",
       "4 2014-02-14 14:50:00  1.706     4        1    13923894\n",
       "5 2014-02-14 14:55:00  1.734     4        1    13923897\n",
       "6 2014-02-14 15:00:00  1.766     4        1    13923900\n",
       "7 2014-02-14 15:05:00  1.766     4        1    13923903\n",
       "8 2014-02-14 15:10:00  2.026     4        1    13923906\n",
       "9 2014-02-14 15:15:00  1.762     4        1    13923909"
      ]
     },
     "execution_count": 7,
     "metadata": {},
     "output_type": "execute_result"
    }
   ],
   "source": [
    "DF['Days'] = DF['timestamp'].dt.dayofweek\n",
    "DF['Weekday'] = (DF['Days'] < 5).astype(int)\n",
    "DF['time_epoch'] = (DF['timestamp'].astype(np.int64)/100000000000).astype(np.int64)\n",
    "DF.head(10)"
   ]
  },
  {
   "cell_type": "markdown",
   "metadata": {},
   "source": [
    "For example here for Monday to Friday the 'Days' Column will be 0 to 4 respectively and the 'Weekday' flag will be 1, also for Saturday and Sunday it will be 0."
   ]
  },
  {
   "cell_type": "markdown",
   "metadata": {},
   "source": [
    "## Interquartile Range (IQR)"
   ]
  },
  {
   "cell_type": "markdown",
   "metadata": {},
   "source": [
    "The IQR is a measure of variability, based on dividing a data set into quartiles. Quartiles divide a rank-ordered data set into four equal parts. The values that separate parts are called the first, second, and third quartiles; and they are denoted by Q1, Q2, and Q3, respectively"
   ]
  },
  {
   "cell_type": "code",
   "execution_count": 8,
   "metadata": {},
   "outputs": [
    {
     "name": "stdout",
     "output_type": "stream",
     "text": [
      "Number of Anomalies is 211\n"
     ]
    }
   ],
   "source": [
    "def Interquartile_Range(DF):\n",
    "    sorted(DF['value'])\n",
    "    Q1, Q3= np.percentile(DF['value'],[25,75])\n",
    "    IQR = iqr(DF['value'])\n",
    "    band_low = Q1 -(1.5 * IQR) \n",
    "    band_up = Q3 +(1.5 * IQR)    \n",
    "    n = 0\n",
    "    for row in DF.iterrows():\n",
    "        if row[1]['value'] > band_up or row[1]['value'] < band_low:\n",
    "            n = n + 1            \n",
    "    print(\"Number of Anomalies is\", n)\n",
    "Interquartile_Range(DF)"
   ]
  },
  {
   "cell_type": "markdown",
   "metadata": {},
   "source": [
    "The number of anomalies which is derived from the IQR method is 211. It is basic math an statistics and easy to implement but it has limited accuracy."
   ]
  },
  {
   "cell_type": "markdown",
   "metadata": {},
   "source": [
    "## Isolation Forest"
   ]
  },
  {
   "cell_type": "code",
   "execution_count": 9,
   "metadata": {},
   "outputs": [
    {
     "name": "stderr",
     "output_type": "stream",
     "text": [
      "C:\\Users\\a454g185\\AppData\\Local\\Continuum\\anaconda3\\lib\\site-packages\\sklearn\\ensemble\\iforest.py:247: FutureWarning: behaviour=\"old\" is deprecated and will be removed in version 0.22. Please use behaviour=\"new\", which makes the decision_function change to match other anomaly detection algorithm API.\n",
      "  FutureWarning)\n",
      "C:\\Users\\a454g185\\AppData\\Local\\Continuum\\anaconda3\\lib\\site-packages\\sklearn\\ensemble\\iforest.py:415: DeprecationWarning: threshold_ attribute is deprecated in 0.20 and will be removed in 0.22.\n",
      "  \" be removed in 0.22.\", DeprecationWarning)\n"
     ]
    },
    {
     "name": "stdout",
     "output_type": "stream",
     "text": [
      "Normal, Anomalies\n",
      " [3831  201]\n"
     ]
    }
   ],
   "source": [
    "DF_iso = DF.loc[:,['value' , 'Days', 'Weekday']]\n",
    "min_max_scaler = preprocessing.StandardScaler()\n",
    "DF_normalized = min_max_scaler.fit_transform(DF_iso) #How to normalize the Train and Test data using MinMaxScaler sklearn\n",
    "DF_iso = pd.DataFrame(DF_normalized) \n",
    "model =  IsolationForest(n_estimators=1000, contamination = 0.05)\n",
    "model.fit(DF_iso)\n",
    "DF['anomaly_IF'] = pd.Series(model.predict(DF_iso))\n",
    "DF['anomaly_IF'] = DF['anomaly_IF'].map( {1: 0, -1: 1} )\n",
    "print(\"Normal, Anomalies\\n\",DF['anomaly_IF'].value_counts().values)"
   ]
  },
  {
   "cell_type": "markdown",
   "metadata": {},
   "source": [
    "The number of anomalies which are driven from Isolation Forest method is 201."
   ]
  },
  {
   "cell_type": "markdown",
   "metadata": {},
   "source": [
    "For visualing the datasets the figure below has been plotted."
   ]
  },
  {
   "cell_type": "code",
   "execution_count": 10,
   "metadata": {},
   "outputs": [
    {
     "data": {
      "image/png": "[encoded data removed]",
      "text/plain": [
       "<Figure size 720x360 with 1 Axes>"
      ]
     },
     "metadata": {
      "needs_background": "light"
     },
     "output_type": "display_data"
    }
   ],
   "source": [
    "fig, ax = plt.subplots(figsize=(10,5))\n",
    "\n",
    "a = DF.loc[DF['anomaly_IF'] == 1, ['time_epoch', 'value']] #anomaly\n",
    "\n",
    "ax.plot(DF['time_epoch'], DF['value'], color='green', label='Normal')\n",
    "ax.scatter(a['time_epoch'],a['value'], color='red', label='Anomaly_IF')\n",
    "plt.title('Isolation Forest', fontsize = 16)\n",
    "plt.xlabel('Time', fontsize=16)\n",
    "plt.ylabel('Value', fontsize=16)\n",
    "plt.legend()\n",
    "plt.show()"
   ]
  },
  {
   "cell_type": "markdown",
   "metadata": {},
   "source": [
    "## One Class Support Vector Machine"
   ]
  },
  {
   "cell_type": "code",
   "execution_count": 11,
   "metadata": {},
   "outputs": [
    {
     "name": "stdout",
     "output_type": "stream",
     "text": [
      "Normal, Anomalies\n",
      " [3811  221]\n"
     ]
    }
   ],
   "source": [
    "DF_svm = DF.loc[:,['value' , 'Days', 'Weekday']]\n",
    "DFsvm_normalize = min_max_scaler.fit_transform(DF_svm)\n",
    "model =  OneClassSVM(nu=0.05)\n",
    "DF_svm = pd.DataFrame(DFsvm_normalize)\n",
    "model.fit(DF_svm)\n",
    "DF['anomaly_svm'] = pd.Series(model.predict(DF_svm))\n",
    "DF['anomaly_svm'] = DF['anomaly_svm'].map( {1: 0, -1: 1} )\n",
    "print(\"Normal, Anomalies\\n\", DF['anomaly_svm'].value_counts().values)"
   ]
  },
  {
   "cell_type": "markdown",
   "metadata": {},
   "source": [
    "The number of anomalies which are driven from SVM method is 221."
   ]
  },
  {
   "cell_type": "code",
   "execution_count": 12,
   "metadata": {},
   "outputs": [
    {
     "data": {
      "image/png": "[encoded data removed]",
      "text/plain": [
       "<Figure size 720x360 with 1 Axes>"
      ]
     },
     "metadata": {
      "needs_background": "light"
     },
     "output_type": "display_data"
    }
   ],
   "source": [
    "fig, ax = plt.subplots(figsize=(10,5))\n",
    "\n",
    "a = DF.loc[DF['anomaly_svm'] == 1, ['time_epoch', 'value']]\n",
    "\n",
    "ax.plot(DF['time_epoch'], DF['value'], color='green', label='Normal')\n",
    "ax.scatter(a['time_epoch'],a['value'], color='red', label='Anomaly_svm')\n",
    "plt.title('One Class SVM', fontsize = 16)\n",
    "plt.xlabel('Time', fontsize=16)\n",
    "plt.ylabel('Value', fontsize=16)\n",
    "plt.legend()\n",
    "plt.show()"
   ]
  },
  {
   "cell_type": "markdown",
   "metadata": {},
   "source": [
    "## Conclusion"
   ]
  },
  {
   "cell_type": "markdown",
   "metadata": {},
   "source": [
    "Three methods of anomaly detection has been implemented and the results are listed as below.\n",
    "\n",
    "1- Interquartile Range (IQR): 211 anomalies detected out of 4032 records\n",
    "\n",
    "2- Isolation Forest: 201 anomalies detected out of 4032 records\n",
    "\n",
    "3- One Class Support Vector Machine: 221 anomalies detected out of 4032 records"
   ]
  }
 ],
 "metadata": {
  "kernelspec": {
   "display_name": "Python 3",
   "language": "python",
   "name": "python3"
  },
  "language_info": {
   "codemirror_mode": {
    "name": "ipython",
    "version": 3
   },
   "file_extension": ".py",
   "mimetype": "text/x-python",
   "name": "python",
   "nbconvert_exporter": "python",
   "pygments_lexer": "ipython3",
   "version": "3.7.4"
  }
 },
 "nbformat": 4,
 "nbformat_minor": 2
}
